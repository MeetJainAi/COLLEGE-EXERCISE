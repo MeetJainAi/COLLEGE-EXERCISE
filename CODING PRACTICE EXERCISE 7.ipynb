{
 "cells": [
  {
   "cell_type": "markdown",
   "id": "866784ca",
   "metadata": {},
   "source": [
    "## CODING PRACTICE 7 FOR AML"
   ]
  },
  {
   "cell_type": "markdown",
   "id": "5d37e262",
   "metadata": {},
   "source": [
    "\n",
    "## 1.Write a Python function that takes a string and calculates the length of a string and returns it. Print the returned value."
   ]
  },
  {
   "cell_type": "code",
   "execution_count": 64,
   "id": "f3a09b9a",
   "metadata": {},
   "outputs": [
    {
     "name": "stdout",
     "output_type": "stream",
     "text": [
      "Length of String is 10\n"
     ]
    }
   ],
   "source": [
    "## With Length Function\n",
    "def StringLen(string):\n",
    "    a=len(string)\n",
    "    return a\n",
    "name = \"Tony Stark\"\n",
    "print(f\"Length of String is {StringLen(name)}\")"
   ]
  },
  {
   "cell_type": "code",
   "execution_count": 65,
   "id": "4a530acf",
   "metadata": {},
   "outputs": [
    {
     "name": "stdout",
     "output_type": "stream",
     "text": [
      "Length of String is 10\n"
     ]
    }
   ],
   "source": [
    "## Without Length Function\n",
    "def CountLen(String):\n",
    "    count = 0\n",
    "    for i in String:\n",
    "        count+=1\n",
    "    return count\n",
    "name = \"Tony Stark\"\n",
    "print(f\"Length of String is {CountLen(name)}\")"
   ]
  },
  {
   "cell_type": "markdown",
   "id": "a86ed849",
   "metadata": {},
   "source": [
    "## 2. Write a Python function that takes a string and counts the number of characters (character frequency) in a string.  For example, if we send 'google.com' to the function, it should return a dictionary like this  {'g': 2, 'o': 3, 'l': 1, 'e': 1, '.': 1, 'c': 1, 'm': 1}"
   ]
  },
  {
   "cell_type": "code",
   "execution_count": 66,
   "id": "b07fd7af",
   "metadata": {},
   "outputs": [
    {
     "name": "stdout",
     "output_type": "stream",
     "text": [
      "{'T': 1, 'o': 2, 'n': 3, 'y': 1, ' ': 3, 'S': 1, 't': 1, 'a': 2, 'r': 2, 'k': 1, 'i': 1, 's': 1, 'I': 1, 'M': 1}\n"
     ]
    }
   ],
   "source": [
    "String = 'Tony Stark is IronMan'\n",
    "def wordCount(string):\n",
    "    count_dict = {}\n",
    "    for n in string:\n",
    "        keys = count_dict.keys()\n",
    "        if n in keys:\n",
    "            count_dict[n] += 1\n",
    "        else:\n",
    "            count_dict[n] = 1\n",
    "    return count_dict\n",
    "print(wordCount(String))\n"
   ]
  },
  {
   "cell_type": "markdown",
   "id": "ee80d034",
   "metadata": {},
   "source": [
    "## 3.Create a string of your choice and apply a minimum of 8 of  following methods to it and print the result."
   ]
  },
  {
   "cell_type": "code",
   "execution_count": 67,
   "id": "7cd3f2bf",
   "metadata": {},
   "outputs": [],
   "source": [
    "String = \"I am IronMan\""
   ]
  },
  {
   "cell_type": "code",
   "execution_count": 68,
   "id": "d8b4f721",
   "metadata": {},
   "outputs": [
    {
     "name": "stdout",
     "output_type": "stream",
     "text": [
      "i am ironman\n",
      "i AM iRONmAN\n",
      "I am ironman\n",
      "i am ironman\n",
      "I am Meet Shah\n",
      " IronMan\n",
      "2\n",
      "('I ', 'am', ' IronMan')\n"
     ]
    }
   ],
   "source": [
    "##1\n",
    "print(String.lower())\n",
    "##2\n",
    "print(String.swapcase())\n",
    "##3\n",
    "print(String.capitalize())\n",
    "##4\n",
    "print(String.casefold())\n",
    "##5\n",
    "print(\"I am {0}\".format(\"Meet Shah\"))\n",
    "##6\n",
    "print(String.removeprefix('I am'))\n",
    "##7\n",
    "print(String.count('I'))\n",
    "##8\n",
    "print(String.partition(\"am\"))"
   ]
  },
  {
   "cell_type": "markdown",
   "id": "0f919f32",
   "metadata": {},
   "source": [
    "## 4. Write a Python function that converts temperatures from Fahrenheit to Celsius. "
   ]
  },
  {
   "cell_type": "code",
   "execution_count": 69,
   "id": "98263d8f",
   "metadata": {},
   "outputs": [
    {
     "name": "stdout",
     "output_type": "stream",
     "text": [
      "Enter Fahrenheit:50\n",
      "Fahrenheit to Celsius : 10.00\n"
     ]
    }
   ],
   "source": [
    "def FtoC(f):\n",
    "    c= (f-32)*0.5556\n",
    "    return c\n",
    "far = int(input(\"Enter Fahrenheit:\"))\n",
    "print(f\"Fahrenheit to Celsius : {FtoC(far):.2f}\")"
   ]
  },
  {
   "cell_type": "code",
   "execution_count": null,
   "id": "1186f4d0",
   "metadata": {},
   "outputs": [],
   "source": []
  }
 ],
 "metadata": {
  "kernelspec": {
   "display_name": "Python 3 (ipykernel)",
   "language": "python",
   "name": "python3"
  },
  "language_info": {
   "codemirror_mode": {
    "name": "ipython",
    "version": 3
   },
   "file_extension": ".py",
   "mimetype": "text/x-python",
   "name": "python",
   "nbconvert_exporter": "python",
   "pygments_lexer": "ipython3",
   "version": "3.9.7"
  }
 },
 "nbformat": 4,
 "nbformat_minor": 5
}
